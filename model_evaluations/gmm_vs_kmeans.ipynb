{
 "cells": [
  {
   "cell_type": "code",
   "execution_count": 2,
   "metadata": {},
   "outputs": [],
   "source": [
    "import sys\n",
    "sys.path.append('..')"
   ]
  },
  {
   "cell_type": "code",
   "execution_count": 18,
   "metadata": {},
   "outputs": [],
   "source": [
    "from TicTacToe import Board, GameTools as GameTools\n",
    "\n",
    "import pandas as pd\n",
    "import pickle\n",
    "from collections import Counter"
   ]
  },
  {
   "cell_type": "code",
   "execution_count": 19,
   "metadata": {},
   "outputs": [
    {
     "data": {
      "text/plain": [
       "array([[ 7, -8,  7, ...,  6, -5,  0],\n",
       "       [ 8, -3,  7, ...,  7, -4,  0],\n",
       "       [-9,  7, -5, ..., -3,  0,  0],\n",
       "       ...,\n",
       "       [ 7, -5,  6, ...,  4,  0,  0],\n",
       "       [-3,  9, -7, ..., -5,  0,  0],\n",
       "       [-6,  5, -7, ...,  0,  0,  0]])"
      ]
     },
     "execution_count": 19,
     "metadata": {},
     "output_type": "execute_result"
    }
   ],
   "source": [
    "data = pd.read_csv(\"../data/1_space_cluster_samples.csv\") # reading in samples\n",
    "data = data[[str(x) for x in range(1, 10)]] # pulling relevant data\n",
    "data = data.values # taking relevant data in form of numpy array\n",
    "data"
   ]
  },
  {
   "cell_type": "code",
   "execution_count": 20,
   "metadata": {},
   "outputs": [],
   "source": [
    "# loading in the models from the binary files\n",
    "gmm = pickle.load(open(\"../model_binaries/gmm.sav\", \"rb\"))\n",
    "kmeans = pickle.load(open(\"../model_binaries/kmeans.sav\", \"rb\"))"
   ]
  },
  {
   "cell_type": "code",
   "execution_count": 24,
   "metadata": {},
   "outputs": [],
   "source": [
    "# counting the number of elements in each identified cluster\n",
    "gmm_res = Counter(gmm.predict(data))\n",
    "kmeans_res = Counter(kmeans.predict(data))"
   ]
  },
  {
   "cell_type": "code",
   "execution_count": 26,
   "metadata": {},
   "outputs": [
    {
     "name": "stdout",
     "output_type": "stream",
     "text": [
      "Gaussian Mixture:  Counter({1: 150, 0: 150})\n",
      "K-Means:  Counter({0: 150, 1: 150})\n"
     ]
    }
   ],
   "source": [
    "print(\"Gaussian Mixture: \", gmm_res)\n",
    "print(\"K-Means: \", kmeans_res)"
   ]
  },
  {
   "cell_type": "markdown",
   "metadata": {},
   "source": [
    "Although the two models gave different names to their clusters, we can see they both assigned the same number of elements to each cluster."
   ]
  },
  {
   "cell_type": "markdown",
   "metadata": {},
   "source": []
  }
 ],
 "metadata": {
  "kernelspec": {
   "display_name": "Python 3.8.10 64-bit",
   "language": "python",
   "name": "python3"
  },
  "language_info": {
   "codemirror_mode": {
    "name": "ipython",
    "version": 3
   },
   "file_extension": ".py",
   "mimetype": "text/x-python",
   "name": "python",
   "nbconvert_exporter": "python",
   "pygments_lexer": "ipython3",
   "version": "3.8.10"
  },
  "orig_nbformat": 4,
  "vscode": {
   "interpreter": {
    "hash": "916dbcbb3f70747c44a77c7bcd40155683ae19c65e1c03b4aa3499c5328201f1"
   }
  }
 },
 "nbformat": 4,
 "nbformat_minor": 2
}
