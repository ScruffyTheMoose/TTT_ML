{
 "cells": [
  {
   "cell_type": "code",
   "execution_count": 21,
   "metadata": {},
   "outputs": [],
   "source": [
    "import sys\n",
    "sys.path.append(\"..\")\n",
    "\n",
    "from TicTacToe import Board\n",
    "from training_environments import Reinforcement as r\n",
    "\n",
    "from sklearn.neural_network import MLPClassifier\n",
    "\n",
    "import pickle\n",
    "import matplotlib.pyplot as plt\n",
    "import pandas as pd\n",
    "import numpy as np\n",
    "import random"
   ]
  },
  {
   "cell_type": "code",
   "execution_count": 22,
   "metadata": {},
   "outputs": [
    {
     "data": {
      "text/plain": [
       "(0.0007742563078166842, 0.0007742563078166842)"
      ]
     },
     "execution_count": 22,
     "metadata": {},
     "output_type": "execute_result"
    }
   ],
   "source": [
    "file1 = \"../model_binaries/agent_ordered_adaptive_200x5_relu.sav\"\n",
    "file2 = \"../model_binaries/agent_ordered_adaptive_200x5_relu.sav\"\n",
    "agent1 = pickle.load(open(file1,\"rb\"))\n",
    "agent2 = pickle.load(open(file2, \"rb\"))\n",
    "agent1.loss_, agent2.loss_"
   ]
  },
  {
   "cell_type": "code",
   "execution_count": 23,
   "metadata": {},
   "outputs": [
    {
     "data": {
      "text/plain": [
       "(array([8], dtype=int64), array([8], dtype=int64))"
      ]
     },
     "execution_count": 23,
     "metadata": {},
     "output_type": "execute_result"
    }
   ],
   "source": [
    "game = Board()\n",
    "v = game.vector + [1] + [1]\n",
    "v = np.array([v])\n",
    "agent1.predict(v), agent2.predict(v)"
   ]
  },
  {
   "cell_type": "code",
   "execution_count": 24,
   "metadata": {},
   "outputs": [
    {
     "data": {
      "text/plain": [
       "(0.0007742563078166842, 0.0007742563078166842)"
      ]
     },
     "execution_count": 24,
     "metadata": {},
     "output_type": "execute_result"
    }
   ],
   "source": [
    "agent1.loss_, agent2.loss_"
   ]
  },
  {
   "cell_type": "code",
   "execution_count": 25,
   "metadata": {},
   "outputs": [
    {
     "name": "stdout",
     "output_type": "stream",
     "text": [
      "0.0\n",
      "0.1\n",
      "0.2\n",
      "0.3\n",
      "0.4\n",
      "0.5\n",
      "0.6\n",
      "0.7\n",
      "0.8\n",
      "0.9\n"
     ]
    },
    {
     "data": {
      "text/plain": [
       "(9997, 10000)"
      ]
     },
     "execution_count": 25,
     "metadata": {},
     "output_type": "execute_result"
    }
   ],
   "source": [
    "f1 = list()\n",
    "f2 = list()\n",
    "for x in range(10000):\n",
    "    if x % 1000 == 0:\n",
    "        print(x / 10000)\n",
    "    f1.append(r.bot_vs_bot_environment(model1=agent1, model2=agent2, random_order=False, first_tracked=True, train_model1=True, train_model2=True, training_type=\"dense\", print_board=False))\n",
    "    f2.append(r.bot_vs_bot_environment(model1=agent2, model2=agent1, random_order=False, first_tracked=True, train_model1=True, train_model2=True, training_type=\"dense\", print_board=False))\n",
    "    \n",
    "f1.count(1), f2.count(1)"
   ]
  },
  {
   "cell_type": "code",
   "execution_count": 26,
   "metadata": {},
   "outputs": [
    {
     "data": {
      "text/plain": [
       "(3, 0)"
      ]
     },
     "execution_count": 26,
     "metadata": {},
     "output_type": "execute_result"
    }
   ],
   "source": [
    "f1.count(-1), f2.count(-1)"
   ]
  },
  {
   "cell_type": "code",
   "execution_count": 27,
   "metadata": {},
   "outputs": [
    {
     "data": {
      "text/plain": [
       "(0.0005975420270080968, 0.0004054206641636984)"
      ]
     },
     "execution_count": 27,
     "metadata": {},
     "output_type": "execute_result"
    }
   ],
   "source": [
    "agent1.loss_, agent2.loss_"
   ]
  },
  {
   "cell_type": "code",
   "execution_count": 28,
   "metadata": {},
   "outputs": [
    {
     "data": {
      "text/plain": [
       "(737, 695)"
      ]
     },
     "execution_count": 28,
     "metadata": {},
     "output_type": "execute_result"
    }
   ],
   "source": [
    "# bot plays first\n",
    "results1 = list()\n",
    "results2 = list()\n",
    "for _ in range(1000):\n",
    "    res1 = r.bot_vs_random(agent1, bot_first=True, first_tracked=True, print_board=False)\n",
    "    res2 = r.bot_vs_random(agent2, bot_first=True, first_tracked=True, print_board=False)\n",
    "    results1.append(res1)\n",
    "    results2.append(res2)\n",
    "    \n",
    "results1.count(1), results2.count(1)"
   ]
  },
  {
   "cell_type": "code",
   "execution_count": 29,
   "metadata": {},
   "outputs": [
    {
     "data": {
      "text/plain": [
       "(273, 328)"
      ]
     },
     "execution_count": 29,
     "metadata": {},
     "output_type": "execute_result"
    }
   ],
   "source": [
    "# bot plays first\n",
    "results1 = list()\n",
    "results2 = list()\n",
    "for _ in range(1000):\n",
    "    res1 = r.bot_vs_random(agent1, bot_first=False, first_tracked=True, print_board=False)\n",
    "    res2 = r.bot_vs_random(agent2, bot_first=False, first_tracked=True, print_board=False)\n",
    "    results1.append(res1)\n",
    "    results2.append(res2)\n",
    "    \n",
    "results1.count(1), results2.count(1)"
   ]
  },
  {
   "cell_type": "code",
   "execution_count": 30,
   "metadata": {},
   "outputs": [],
   "source": [
    "# pickle.dump(agent1, open(file1, \"wb\"))\n",
    "# pickle.dump(agent2, open(file2, \"wb\"))"
   ]
  }
 ],
 "metadata": {
  "kernelspec": {
   "display_name": "Python 3.10.2 64-bit",
   "language": "python",
   "name": "python3"
  },
  "language_info": {
   "codemirror_mode": {
    "name": "ipython",
    "version": 3
   },
   "file_extension": ".py",
   "mimetype": "text/x-python",
   "name": "python",
   "nbconvert_exporter": "python",
   "pygments_lexer": "ipython3",
   "version": "3.10.2"
  },
  "orig_nbformat": 4,
  "vscode": {
   "interpreter": {
    "hash": "b8f6c3ebd6a88d6aa92e8e216424c33c840aaeca7e1202db6e523f3cae8f4bb3"
   }
  }
 },
 "nbformat": 4,
 "nbformat_minor": 2
}
