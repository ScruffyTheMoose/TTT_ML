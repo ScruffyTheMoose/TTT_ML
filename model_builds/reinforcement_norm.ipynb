{
 "cells": [
  {
   "cell_type": "code",
   "execution_count": 1,
   "metadata": {},
   "outputs": [],
   "source": [
    "import sys\n",
    "sys.path.append('..')\n",
    "\n",
    "from sklearn.neural_network import MLPClassifier\n",
    "\n",
    "import numpy as np\n",
    "import pickle\n",
    "import random\n",
    "\n",
    "from Environment import RandomEnvironment"
   ]
  },
  {
   "cell_type": "markdown",
   "metadata": {},
   "source": [
    "minimum number of iters before it trains X\n",
    "\n",
    "try training on a ton more iters with a lower random proba\n",
    "\n",
    "The number of boards we are seeing is 4520, the maximum possible number of incompleted positions/states. There are then 958 remaining completed boards, totaling 5478.\n",
    "https://math.stackexchange.com/questions/3276315/number-of-uncompleted-tic-tac-toe-games"
   ]
  },
  {
   "cell_type": "code",
   "execution_count": 2,
   "metadata": {},
   "outputs": [
    {
     "data": {
      "text/html": [
       "<style>#sk-container-id-1 {color: black;background-color: white;}#sk-container-id-1 pre{padding: 0;}#sk-container-id-1 div.sk-toggleable {background-color: white;}#sk-container-id-1 label.sk-toggleable__label {cursor: pointer;display: block;width: 100%;margin-bottom: 0;padding: 0.3em;box-sizing: border-box;text-align: center;}#sk-container-id-1 label.sk-toggleable__label-arrow:before {content: \"▸\";float: left;margin-right: 0.25em;color: #696969;}#sk-container-id-1 label.sk-toggleable__label-arrow:hover:before {color: black;}#sk-container-id-1 div.sk-estimator:hover label.sk-toggleable__label-arrow:before {color: black;}#sk-container-id-1 div.sk-toggleable__content {max-height: 0;max-width: 0;overflow: hidden;text-align: left;background-color: #f0f8ff;}#sk-container-id-1 div.sk-toggleable__content pre {margin: 0.2em;color: black;border-radius: 0.25em;background-color: #f0f8ff;}#sk-container-id-1 input.sk-toggleable__control:checked~div.sk-toggleable__content {max-height: 200px;max-width: 100%;overflow: auto;}#sk-container-id-1 input.sk-toggleable__control:checked~label.sk-toggleable__label-arrow:before {content: \"▾\";}#sk-container-id-1 div.sk-estimator input.sk-toggleable__control:checked~label.sk-toggleable__label {background-color: #d4ebff;}#sk-container-id-1 div.sk-label input.sk-toggleable__control:checked~label.sk-toggleable__label {background-color: #d4ebff;}#sk-container-id-1 input.sk-hidden--visually {border: 0;clip: rect(1px 1px 1px 1px);clip: rect(1px, 1px, 1px, 1px);height: 1px;margin: -1px;overflow: hidden;padding: 0;position: absolute;width: 1px;}#sk-container-id-1 div.sk-estimator {font-family: monospace;background-color: #f0f8ff;border: 1px dotted black;border-radius: 0.25em;box-sizing: border-box;margin-bottom: 0.5em;}#sk-container-id-1 div.sk-estimator:hover {background-color: #d4ebff;}#sk-container-id-1 div.sk-parallel-item::after {content: \"\";width: 100%;border-bottom: 1px solid gray;flex-grow: 1;}#sk-container-id-1 div.sk-label:hover label.sk-toggleable__label {background-color: #d4ebff;}#sk-container-id-1 div.sk-serial::before {content: \"\";position: absolute;border-left: 1px solid gray;box-sizing: border-box;top: 0;bottom: 0;left: 50%;z-index: 0;}#sk-container-id-1 div.sk-serial {display: flex;flex-direction: column;align-items: center;background-color: white;padding-right: 0.2em;padding-left: 0.2em;position: relative;}#sk-container-id-1 div.sk-item {position: relative;z-index: 1;}#sk-container-id-1 div.sk-parallel {display: flex;align-items: stretch;justify-content: center;background-color: white;position: relative;}#sk-container-id-1 div.sk-item::before, #sk-container-id-1 div.sk-parallel-item::before {content: \"\";position: absolute;border-left: 1px solid gray;box-sizing: border-box;top: 0;bottom: 0;left: 50%;z-index: -1;}#sk-container-id-1 div.sk-parallel-item {display: flex;flex-direction: column;z-index: 1;position: relative;background-color: white;}#sk-container-id-1 div.sk-parallel-item:first-child::after {align-self: flex-end;width: 50%;}#sk-container-id-1 div.sk-parallel-item:last-child::after {align-self: flex-start;width: 50%;}#sk-container-id-1 div.sk-parallel-item:only-child::after {width: 0;}#sk-container-id-1 div.sk-dashed-wrapped {border: 1px dashed gray;margin: 0 0.4em 0.5em 0.4em;box-sizing: border-box;padding-bottom: 0.4em;background-color: white;}#sk-container-id-1 div.sk-label label {font-family: monospace;font-weight: bold;display: inline-block;line-height: 1.2em;}#sk-container-id-1 div.sk-label-container {text-align: center;}#sk-container-id-1 div.sk-container {/* jupyter's `normalize.less` sets `[hidden] { display: none; }` but bootstrap.min.css set `[hidden] { display: none !important; }` so we also need the `!important` here to be able to override the default hidden behavior on the sphinx rendered scikit-learn.org. See: https://github.com/scikit-learn/scikit-learn/issues/21755 */display: inline-block !important;position: relative;}#sk-container-id-1 div.sk-text-repr-fallback {display: none;}</style><div id=\"sk-container-id-1\" class=\"sk-top-container\"><div class=\"sk-text-repr-fallback\"><pre>MLPClassifier(hidden_layer_sizes=(50, 50, 50, 50, 50))</pre><b>In a Jupyter environment, please rerun this cell to show the HTML representation or trust the notebook. <br />On GitHub, the HTML representation is unable to render, please try loading this page with nbviewer.org.</b></div><div class=\"sk-container\" hidden><div class=\"sk-item\"><div class=\"sk-estimator sk-toggleable\"><input class=\"sk-toggleable__control sk-hidden--visually\" id=\"sk-estimator-id-1\" type=\"checkbox\" checked><label for=\"sk-estimator-id-1\" class=\"sk-toggleable__label sk-toggleable__label-arrow\">MLPClassifier</label><div class=\"sk-toggleable__content\"><pre>MLPClassifier(hidden_layer_sizes=(50, 50, 50, 50, 50))</pre></div></div></div></div></div>"
      ],
      "text/plain": [
       "MLPClassifier(hidden_layer_sizes=(50, 50, 50, 50, 50))"
      ]
     },
     "execution_count": 2,
     "metadata": {},
     "output_type": "execute_result"
    }
   ],
   "source": [
    "model = MLPClassifier(hidden_layer_sizes=(50, 50, 50, 50, 50))\n",
    "test_board = np.array([[0, 0, 0, 0, 0, 0, 0, 0, 0]])\n",
    "test_label = np.array([5])\n",
    "test_classes = [1, 2, 3, 4, 5, 6, 7, 8, 9]\n",
    "\n",
    "model.partial_fit(test_board, test_label, test_classes)"
   ]
  },
  {
   "cell_type": "code",
   "execution_count": 3,
   "metadata": {},
   "outputs": [
    {
     "data": {
      "text/plain": [
       "({}, set())"
      ]
     },
     "execution_count": 3,
     "metadata": {},
     "output_type": "execute_result"
    }
   ],
   "source": [
    "# Initiating our training environment with binary encoding of the game states set to True\n",
    "\n",
    "e = RandomEnvironment(agent=model, binary_encode_data=False)\n",
    "e.states_data, e.states_seen"
   ]
  },
  {
   "cell_type": "code",
   "execution_count": 4,
   "metadata": {},
   "outputs": [
    {
     "data": {
      "text/plain": [
       "(67053, 25763, 7184)"
      ]
     },
     "execution_count": 4,
     "metadata": {},
     "output_type": "execute_result"
    }
   ],
   "source": [
    "##### TRAINING #####\n",
    "\n",
    "win = 0\n",
    "loss = 0\n",
    "draw = 0\n",
    "\n",
    "for i in range(100000):\n",
    "    t = e.play(model_plays_first=random.randint(0, 1), update_scores=True, train_model=True, rand_move_proba=0.5, print_board=False)\n",
    "    if t == 1:\n",
    "        win += 1\n",
    "    elif t == 0:\n",
    "        draw += 1\n",
    "    else:\n",
    "        loss += 1\n",
    "    \n",
    "win, loss, draw"
   ]
  },
  {
   "cell_type": "code",
   "execution_count": 5,
   "metadata": {},
   "outputs": [
    {
     "data": {
      "text/plain": [
       "(4515, 4515)"
      ]
     },
     "execution_count": 5,
     "metadata": {},
     "output_type": "execute_result"
    }
   ],
   "source": [
    "# ensuring the environment has seen and tracked the same number of game states\n",
    "\n",
    "len(e.states_seen), len(e.states_data)"
   ]
  },
  {
   "cell_type": "code",
   "execution_count": 6,
   "metadata": {},
   "outputs": [
    {
     "name": "stdout",
     "output_type": "stream",
     "text": [
      "Model plays first: \n",
      " Win: 9801 Loss: 130 Draw: 69\n",
      "Model plays second: \n",
      " Win: 8557 Loss: 1174 Draw: 269\n",
      "Model average performance: \n",
      " Win: 9152 Loss: 683 Draw: 165\n"
     ]
    }
   ],
   "source": [
    "# evaluating the performance of the model\n",
    "\n",
    "# model first\n",
    "win = 0\n",
    "loss = 0\n",
    "draw = 0\n",
    "\n",
    "for i in range(10000):\n",
    "        \n",
    "    t = e.play(model_plays_first=True, update_scores=False, train_model=False, rand_move_proba=0.0, print_board=False)\n",
    "    if t == 1:\n",
    "        win += 1\n",
    "    elif t == 0:\n",
    "        draw += 1\n",
    "    else:\n",
    "        loss += 1\n",
    "    \n",
    "print(\"Model plays first:\", \"\\n\", \"Win:\", win, \"Loss:\", loss, \"Draw:\", draw)\n",
    "\n",
    "# model second\n",
    "win = 0\n",
    "loss = 0\n",
    "draw = 0\n",
    "\n",
    "for i in range(10000):\n",
    "        \n",
    "    t = e.play(model_plays_first=False, update_scores=False, train_model=False, rand_move_proba=0.0, print_board=False)\n",
    "    if t == 1:\n",
    "        win += 1\n",
    "    elif t == 0:\n",
    "        draw += 1\n",
    "    else:\n",
    "        loss += 1\n",
    "    \n",
    "print(\"Model plays second:\", \"\\n\", \"Win:\", win, \"Loss:\", loss, \"Draw:\", draw)\n",
    "\n",
    "# model average\n",
    "win = 0\n",
    "loss = 0\n",
    "draw = 0\n",
    "\n",
    "for i in range(10000):\n",
    "        \n",
    "    t = e.play(model_plays_first=random.randint(0, 1), update_scores=False, train_model=False, rand_move_proba=0.0, print_board=False)\n",
    "    if t == 1:\n",
    "        win += 1\n",
    "    elif t == 0:\n",
    "        draw += 1\n",
    "    else:\n",
    "        loss += 1\n",
    "    \n",
    "print(\"Model average performance:\", \"\\n\", \"Win:\", win, \"Loss:\", loss, \"Draw:\", draw)"
   ]
  },
  {
   "cell_type": "code",
   "execution_count": 7,
   "metadata": {},
   "outputs": [],
   "source": [
    "# Saving model binary\n",
    "\n",
    "pickle.dump(model, open(\"../model_binaries/agent_norm.sav\", \"wb\"))"
   ]
  }
 ],
 "metadata": {
  "kernelspec": {
   "display_name": "Python 3.10.2 64-bit",
   "language": "python",
   "name": "python3"
  },
  "language_info": {
   "codemirror_mode": {
    "name": "ipython",
    "version": 3
   },
   "file_extension": ".py",
   "mimetype": "text/x-python",
   "name": "python",
   "nbconvert_exporter": "python",
   "pygments_lexer": "ipython3",
   "version": "3.10.2"
  },
  "orig_nbformat": 4,
  "vscode": {
   "interpreter": {
    "hash": "b8f6c3ebd6a88d6aa92e8e216424c33c840aaeca7e1202db6e523f3cae8f4bb3"
   }
  }
 },
 "nbformat": 4,
 "nbformat_minor": 2
}
