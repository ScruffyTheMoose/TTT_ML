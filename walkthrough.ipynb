{
 "cells": [
  {
   "cell_type": "code",
   "execution_count": 15,
   "metadata": {},
   "outputs": [],
   "source": [
    "from TicTacToe import Board, GameTools as gt\n",
    "from Sample import random_samples\n",
    "\n",
    "import pandas as pd\n",
    "import numpy as np\n",
    "import matplotlib.pyplot as plt\n",
    "import pickle\n",
    "\n",
    "from sklearn.cluster import KMeans"
   ]
  },
  {
   "cell_type": "markdown",
   "metadata": {},
   "source": [
    "## Sample data generation and Vectorization"
   ]
  },
  {
   "cell_type": "code",
   "execution_count": 16,
   "metadata": {},
   "outputs": [
    {
     "data": {
      "text/html": [
       "<div>\n",
       "<style scoped>\n",
       "    .dataframe tbody tr th:only-of-type {\n",
       "        vertical-align: middle;\n",
       "    }\n",
       "\n",
       "    .dataframe tbody tr th {\n",
       "        vertical-align: top;\n",
       "    }\n",
       "\n",
       "    .dataframe thead th {\n",
       "        text-align: right;\n",
       "    }\n",
       "</style>\n",
       "<table border=\"1\" class=\"dataframe\">\n",
       "  <thead>\n",
       "    <tr style=\"text-align: right;\">\n",
       "      <th></th>\n",
       "      <th>board</th>\n",
       "      <th>winner</th>\n",
       "      <th>1</th>\n",
       "      <th>2</th>\n",
       "      <th>3</th>\n",
       "      <th>4</th>\n",
       "      <th>5</th>\n",
       "      <th>6</th>\n",
       "      <th>7</th>\n",
       "      <th>8</th>\n",
       "      <th>9</th>\n",
       "    </tr>\n",
       "  </thead>\n",
       "  <tbody>\n",
       "    <tr>\n",
       "      <th>0</th>\n",
       "      <td>[[1, -1, 0], [0, 1, 1], [1, -1, 0]]</td>\n",
       "      <td>-1</td>\n",
       "      <td>6</td>\n",
       "      <td>-9</td>\n",
       "      <td>7</td>\n",
       "      <td>-5</td>\n",
       "      <td>3</td>\n",
       "      <td>-5</td>\n",
       "      <td>7</td>\n",
       "      <td>0</td>\n",
       "      <td>0</td>\n",
       "    </tr>\n",
       "    <tr>\n",
       "      <th>1</th>\n",
       "      <td>[[0, -1, 1], [-1, -1, 0], [1, 1, -1]]</td>\n",
       "      <td>-1</td>\n",
       "      <td>7</td>\n",
       "      <td>-3</td>\n",
       "      <td>8</td>\n",
       "      <td>-7</td>\n",
       "      <td>5</td>\n",
       "      <td>0</td>\n",
       "      <td>0</td>\n",
       "      <td>0</td>\n",
       "      <td>0</td>\n",
       "    </tr>\n",
       "    <tr>\n",
       "      <th>2</th>\n",
       "      <td>[[1, 1, 0], [-1, -1, -1], [0, -1, -1]]</td>\n",
       "      <td>-1</td>\n",
       "      <td>-5</td>\n",
       "      <td>3</td>\n",
       "      <td>-7</td>\n",
       "      <td>4</td>\n",
       "      <td>0</td>\n",
       "      <td>0</td>\n",
       "      <td>0</td>\n",
       "      <td>0</td>\n",
       "      <td>0</td>\n",
       "    </tr>\n",
       "    <tr>\n",
       "      <th>3</th>\n",
       "      <td>[[0, 0, 1], [0, -1, -1], [-1, 1, -1]]</td>\n",
       "      <td>-1</td>\n",
       "      <td>-4</td>\n",
       "      <td>8</td>\n",
       "      <td>-3</td>\n",
       "      <td>5</td>\n",
       "      <td>-5</td>\n",
       "      <td>0</td>\n",
       "      <td>0</td>\n",
       "      <td>0</td>\n",
       "      <td>0</td>\n",
       "    </tr>\n",
       "    <tr>\n",
       "      <th>4</th>\n",
       "      <td>[[0, 1, -1], [1, 1, 1], [0, -1, 0]]</td>\n",
       "      <td>1</td>\n",
       "      <td>5</td>\n",
       "      <td>-7</td>\n",
       "      <td>7</td>\n",
       "      <td>-3</td>\n",
       "      <td>4</td>\n",
       "      <td>-9</td>\n",
       "      <td>6</td>\n",
       "      <td>0</td>\n",
       "      <td>0</td>\n",
       "    </tr>\n",
       "  </tbody>\n",
       "</table>\n",
       "</div>"
      ],
      "text/plain": [
       "                                    board  winner  1  2  3  4  5  6  7  8  9\n",
       "0     [[1, -1, 0], [0, 1, 1], [1, -1, 0]]      -1  6 -9  7 -5  3 -5  7  0  0\n",
       "1   [[0, -1, 1], [-1, -1, 0], [1, 1, -1]]      -1  7 -3  8 -7  5  0  0  0  0\n",
       "2  [[1, 1, 0], [-1, -1, -1], [0, -1, -1]]      -1 -5  3 -7  4  0  0  0  0  0\n",
       "3   [[0, 0, 1], [0, -1, -1], [-1, 1, -1]]      -1 -4  8 -3  5 -5  0  0  0  0\n",
       "4     [[0, 1, -1], [1, 1, 1], [0, -1, 0]]       1  5 -7  7 -3  4 -9  6  0  0"
      ]
     },
     "execution_count": 16,
     "metadata": {},
     "output_type": "execute_result"
    }
   ],
   "source": [
    "# example of generating random samples using some of the parameters to adjust settings\n",
    "# this sample set will contain 1000 matches\n",
    "data = random_samples(n_samples=1000, save_file=False, rand_first_player=True, shuffled=True)\n",
    "\n",
    "# this returns a pandas DataFrame\n",
    "data.head()"
   ]
  },
  {
   "cell_type": "markdown",
   "metadata": {},
   "source": [
    "We have a lot of information compressed into a small table.\n",
    "\n",
    "The first two columns are rarely used, but are kept for data validation. They are:\n",
    "- \"board\": the game board in the form of a matrix. 'X' = 1, 'O' = 0, and an open space is represented with -1\n",
    "- \"winner\": indicates if the match was completed, and if so, who won\n",
    "\n",
    "The numbered columns are an ordered representation of every move made by each player during a match of TTT. This can then be vectorized to be easily fed into a learning algorithm! Let's look at how we do that."
   ]
  },
  {
   "cell_type": "code",
   "execution_count": 17,
   "metadata": {},
   "outputs": [
    {
     "data": {
      "text/html": [
       "<div>\n",
       "<style scoped>\n",
       "    .dataframe tbody tr th:only-of-type {\n",
       "        vertical-align: middle;\n",
       "    }\n",
       "\n",
       "    .dataframe tbody tr th {\n",
       "        vertical-align: top;\n",
       "    }\n",
       "\n",
       "    .dataframe thead th {\n",
       "        text-align: right;\n",
       "    }\n",
       "</style>\n",
       "<table border=\"1\" class=\"dataframe\">\n",
       "  <thead>\n",
       "    <tr style=\"text-align: right;\">\n",
       "      <th></th>\n",
       "      <th>1</th>\n",
       "      <th>2</th>\n",
       "      <th>3</th>\n",
       "      <th>4</th>\n",
       "      <th>5</th>\n",
       "      <th>6</th>\n",
       "      <th>7</th>\n",
       "      <th>8</th>\n",
       "      <th>9</th>\n",
       "    </tr>\n",
       "  </thead>\n",
       "  <tbody>\n",
       "    <tr>\n",
       "      <th>0</th>\n",
       "      <td>6</td>\n",
       "      <td>-9</td>\n",
       "      <td>7</td>\n",
       "      <td>-5</td>\n",
       "      <td>3</td>\n",
       "      <td>-5</td>\n",
       "      <td>7</td>\n",
       "      <td>0</td>\n",
       "      <td>0</td>\n",
       "    </tr>\n",
       "    <tr>\n",
       "      <th>1</th>\n",
       "      <td>7</td>\n",
       "      <td>-3</td>\n",
       "      <td>8</td>\n",
       "      <td>-7</td>\n",
       "      <td>5</td>\n",
       "      <td>0</td>\n",
       "      <td>0</td>\n",
       "      <td>0</td>\n",
       "      <td>0</td>\n",
       "    </tr>\n",
       "    <tr>\n",
       "      <th>2</th>\n",
       "      <td>-5</td>\n",
       "      <td>3</td>\n",
       "      <td>-7</td>\n",
       "      <td>4</td>\n",
       "      <td>0</td>\n",
       "      <td>0</td>\n",
       "      <td>0</td>\n",
       "      <td>0</td>\n",
       "      <td>0</td>\n",
       "    </tr>\n",
       "    <tr>\n",
       "      <th>3</th>\n",
       "      <td>-4</td>\n",
       "      <td>8</td>\n",
       "      <td>-3</td>\n",
       "      <td>5</td>\n",
       "      <td>-5</td>\n",
       "      <td>0</td>\n",
       "      <td>0</td>\n",
       "      <td>0</td>\n",
       "      <td>0</td>\n",
       "    </tr>\n",
       "    <tr>\n",
       "      <th>4</th>\n",
       "      <td>5</td>\n",
       "      <td>-7</td>\n",
       "      <td>7</td>\n",
       "      <td>-3</td>\n",
       "      <td>4</td>\n",
       "      <td>-9</td>\n",
       "      <td>6</td>\n",
       "      <td>0</td>\n",
       "      <td>0</td>\n",
       "    </tr>\n",
       "  </tbody>\n",
       "</table>\n",
       "</div>"
      ],
      "text/plain": [
       "   1  2  3  4  5  6  7  8  9\n",
       "0  6 -9  7 -5  3 -5  7  0  0\n",
       "1  7 -3  8 -7  5  0  0  0  0\n",
       "2 -5  3 -7  4  0  0  0  0  0\n",
       "3 -4  8 -3  5 -5  0  0  0  0\n",
       "4  5 -7  7 -3  4 -9  6  0  0"
      ]
     },
     "execution_count": 17,
     "metadata": {},
     "output_type": "execute_result"
    }
   ],
   "source": [
    "# data is in the form of a pandas DataFrame. We can extract any columns we want to use for training data.\n",
    "# we use the column keys (1, 2, 3, etc...) to extract them from the 'data' variable\n",
    "train_X = data[[x for x in range(1, 10)]]\n",
    "\n",
    "# looking at the extracted data\n",
    "train_X.head()"
   ]
  },
  {
   "cell_type": "code",
   "execution_count": 18,
   "metadata": {},
   "outputs": [
    {
     "data": {
      "text/plain": [
       "array([[ 6, -9,  7, ...,  7,  0,  0],\n",
       "       [ 7, -3,  8, ...,  0,  0,  0],\n",
       "       [-5,  3, -7, ...,  0,  0,  0],\n",
       "       ...,\n",
       "       [-5,  7, -7, ...,  0,  0,  0],\n",
       "       [-7,  5, -9, ...,  0,  0,  0],\n",
       "       [ 8, -9,  5, ...,  5,  0,  0]], dtype=int64)"
      ]
     },
     "execution_count": 18,
     "metadata": {},
     "output_type": "execute_result"
    }
   ],
   "source": [
    "# vectorizing the data can be done with the 'values' attribute. This returns a numpy nd.array\n",
    "# we assign this to a new matrix, X\n",
    "X = train_X.values\n",
    "\n",
    "# looking at the resulting matrix\n",
    "X"
   ]
  },
  {
   "cell_type": "markdown",
   "metadata": {},
   "source": [
    "The training data has now be vectorized. This allows for fitting and predicting to be computationally more efficient, and sets up an easy structure for getting predictions back from a model during implementation."
   ]
  },
  {
   "cell_type": "markdown",
   "metadata": {},
   "source": [
    "## K-Means Cluster - finding a K value"
   ]
  },
  {
   "cell_type": "markdown",
   "metadata": {},
   "source": [
    "When clustering, it's difficult to know how many centroids to expect in the data. In order to effectively identify the proper amount, iterative testing is necessary. We will use a graphing library to observe the results."
   ]
  },
  {
   "cell_type": "code",
   "execution_count": 21,
   "metadata": {},
   "outputs": [
    {
     "data": {
      "image/png": "[encoded data removed]",
      "text/plain": [
       "<Figure size 1200x720 with 1 Axes>"
      ]
     },
     "metadata": {
      "needs_background": "light"
     },
     "output_type": "display_data"
    }
   ],
   "source": [
    "# initializing the plot and adjusting settings\n",
    "plt.figure(figsize=(10, 6), dpi=120)\n",
    "\n",
    "sse = dict()\n",
    "for k in range(1, 10):\n",
    "    kmeans = KMeans(n_clusters=k, max_iter=2500).fit(X)\n",
    "    sse[k] = kmeans.inertia_ # sum of squared euclidian distance from each point to its closest centroid\n",
    "plt.plot(list(sse.keys()), list(sse.values()), label=f\"Sample matrix X\")\n",
    "\n",
    "plt.title(\"Cluster Evaluation\")\n",
    "plt.xlabel(\"Number of Clusters\")\n",
    "plt.ylabel(\"SSE\")\n",
    "plt.legend(loc=\"upper right\")\n",
    "plt.show()"
   ]
  },
  {
   "cell_type": "markdown",
   "metadata": {},
   "source": [
    "There is an 'elbow' at k=2 clusters where the Sum of Squared Error (SSE) has a sharp change in direction. This indicates that the SSE is beinning to converge at k=2, which implies that our data is most likely split into 2 clusters.\n",
    "\n",
    "In fact, if you continue to evaluate increasingly large datasets, the SSE will increase by an order of magnitude but the convergence still begins at k=2."
   ]
  },
  {
   "cell_type": "markdown",
   "metadata": {},
   "source": [
    "## K-Means Cluster - training a model"
   ]
  },
  {
   "cell_type": "markdown",
   "metadata": {},
   "source": [
    "Since we now have evidence indicating that k=2, we can construct a model to classify games of Tic Tac Toe!\n",
    "\n",
    "We will use SciKit-Learn to construct a simple model with the default parameters on a large dataset. Rather than loading in an already generated dataset, we will generate a new one."
   ]
  },
  {
   "cell_type": "code",
   "execution_count": 40,
   "metadata": {},
   "outputs": [
    {
     "data": {
      "text/plain": [
       "587808.1551898001"
      ]
     },
     "execution_count": 40,
     "metadata": {},
     "output_type": "execute_result"
    }
   ],
   "source": [
    "# data set with 20000 samples\n",
    "data_0 = random_samples(n_samples=10000)\n",
    "train_Z = data_0[[x for x in range(1, 10)]]\n",
    "Z = train_Z.values\n",
    "\n",
    "# instantiating the KMeans model\n",
    "model = KMeans(n_clusters=2)\n",
    "\n",
    "# fitting the model to our Z data matrix\n",
    "model.fit(Z)\n",
    "\n",
    "# looking at our SSE\n",
    "model.inertia_"
   ]
  },
  {
   "cell_type": "markdown",
   "metadata": {},
   "source": [
    "It is worth noting the SSE scales linearly with the size of the training set."
   ]
  },
  {
   "cell_type": "markdown",
   "metadata": {},
   "source": [
    "We now have a trained model that can be used for classification. We still do not know what the classes are, however. This will need to be determined through either:\n",
    "- classification of labeled data\n",
    "- live testing\n",
    "\n",
    "For now, we will just demonstrate how to use this model for classification."
   ]
  },
  {
   "cell_type": "code",
   "execution_count": 43,
   "metadata": {},
   "outputs": [
    {
     "data": {
      "text/plain": [
       "array([1, 1, 0, 0, 1, 1, 1, 1, 1, 1, 0, 0, 1, 1, 1, 1, 1, 1, 1, 1, 0, 1,\n",
       "       0, 1, 1, 0, 1, 1, 0, 1, 0, 1, 1, 1, 0, 0, 1, 0, 0, 1, 1, 0, 0, 0,\n",
       "       0, 1, 0, 0, 1, 0, 0, 0, 0, 0, 0, 0, 0, 1, 1, 1, 0, 1, 0, 0, 0, 1,\n",
       "       1, 0, 1, 1, 1, 0, 1, 0, 0, 0, 0, 1, 0, 1, 0, 0, 0, 0, 1, 0, 0, 1,\n",
       "       1, 1, 0, 1, 0, 0, 0, 0, 0, 0, 1, 0])"
      ]
     },
     "execution_count": 43,
     "metadata": {},
     "output_type": "execute_result"
    }
   ],
   "source": [
    "# looking at the classifications of the first 100 elements of our smaller data matrix, X\n",
    "model.predict(X)[:100]"
   ]
  },
  {
   "cell_type": "markdown",
   "metadata": {},
   "source": [
    "The predictions from the model assign each sample to either class '1' or class '0'. \n",
    "\n",
    "It is assumed for now that each class indicates that a match is in-favor of player 'X' or player 'O'. This can be used for training a model like a decision tree for example!"
   ]
  },
  {
   "cell_type": "markdown",
   "metadata": {},
   "source": [
    "Now that the model is trained and ready for live testing, we will save it into a binary file. This binary file will be loadable into any program to make predictions."
   ]
  },
  {
   "cell_type": "code",
   "execution_count": 45,
   "metadata": {},
   "outputs": [],
   "source": [
    "# using pickle library to write a new .sav file in binary in our specific directory\n",
    "pickle.dump(model, open(\"model_binaries/example_kmeans.sav\", \"wb\"))"
   ]
  },
  {
   "cell_type": "markdown",
   "metadata": {},
   "source": [
    "This binary file can then be loaded in a similar way and then used for predictions."
   ]
  },
  {
   "cell_type": "code",
   "execution_count": 47,
   "metadata": {},
   "outputs": [
    {
     "data": {
      "text/plain": [
       "array([1, 1, 0, 0, 1, 1, 1, 1, 1, 1, 0, 0, 1, 1, 1, 1, 1, 1, 1, 1, 0, 1,\n",
       "       0, 1, 1, 0, 1, 1, 0, 1, 0, 1, 1, 1, 0, 0, 1, 0, 0, 1, 1, 0, 0, 0,\n",
       "       0, 1, 0, 0, 1, 0, 0, 0, 0, 0, 0, 0, 0, 1, 1, 1, 0, 1, 0, 0, 0, 1,\n",
       "       1, 0, 1, 1, 1, 0, 1, 0, 0, 0, 0, 1, 0, 1, 0, 0, 0, 0, 1, 0, 0, 1,\n",
       "       1, 1, 0, 1, 0, 0, 0, 0, 0, 0, 1, 0])"
      ]
     },
     "execution_count": 47,
     "metadata": {},
     "output_type": "execute_result"
    }
   ],
   "source": [
    "km_model = pickle.load(open(\"model_binaries/example_kmeans.sav\", \"rb\"))\n",
    "km_model.predict(X)[:100]"
   ]
  },
  {
   "cell_type": "code",
   "execution_count": null,
   "metadata": {},
   "outputs": [],
   "source": []
  }
 ],
 "metadata": {
  "kernelspec": {
   "display_name": "Python 3.10.2 64-bit",
   "language": "python",
   "name": "python3"
  },
  "language_info": {
   "codemirror_mode": {
    "name": "ipython",
    "version": 3
   },
   "file_extension": ".py",
   "mimetype": "text/x-python",
   "name": "python",
   "nbconvert_exporter": "python",
   "pygments_lexer": "ipython3",
   "version": "3.10.2"
  },
  "orig_nbformat": 4,
  "vscode": {
   "interpreter": {
    "hash": "b8f6c3ebd6a88d6aa92e8e216424c33c840aaeca7e1202db6e523f3cae8f4bb3"
   }
  }
 },
 "nbformat": 4,
 "nbformat_minor": 2
}
