{
 "cells": [
  {
   "cell_type": "code",
   "execution_count": 36,
   "metadata": {},
   "outputs": [],
   "source": [
    "from TicTacToe import Board, GameTools as gt\n",
    "from Sample import random_samples\n",
    "\n",
    "import pandas as pd\n",
    "import numpy as np\n",
    "import matplotlib.pyplot as plt\n",
    "import pickle\n",
    "\n",
    "from sklearn.cluster import KMeans"
   ]
  },
  {
   "cell_type": "markdown",
   "metadata": {},
   "source": [
    "## Data Generation and Vectorization"
   ]
  },
  {
   "cell_type": "markdown",
   "metadata": {},
   "source": [
    "In order to train models, data is needed. I wrote a function which allows for a data set to be randomly generated based on a number of parameters. This function will be used throughout this notebook."
   ]
  },
  {
   "cell_type": "code",
   "execution_count": 37,
   "metadata": {},
   "outputs": [
    {
     "data": {
      "text/html": [
       "<div>\n",
       "<style scoped>\n",
       "    .dataframe tbody tr th:only-of-type {\n",
       "        vertical-align: middle;\n",
       "    }\n",
       "\n",
       "    .dataframe tbody tr th {\n",
       "        vertical-align: top;\n",
       "    }\n",
       "\n",
       "    .dataframe thead th {\n",
       "        text-align: right;\n",
       "    }\n",
       "</style>\n",
       "<table border=\"1\" class=\"dataframe\">\n",
       "  <thead>\n",
       "    <tr style=\"text-align: right;\">\n",
       "      <th></th>\n",
       "      <th>board</th>\n",
       "      <th>winner</th>\n",
       "      <th>1</th>\n",
       "      <th>2</th>\n",
       "      <th>3</th>\n",
       "      <th>4</th>\n",
       "      <th>5</th>\n",
       "      <th>6</th>\n",
       "      <th>7</th>\n",
       "      <th>8</th>\n",
       "      <th>9</th>\n",
       "    </tr>\n",
       "  </thead>\n",
       "  <tbody>\n",
       "    <tr>\n",
       "      <th>0</th>\n",
       "      <td>[[1, 0, 1], [0, 0, -1], [-1, 1, 1]]</td>\n",
       "      <td>-1</td>\n",
       "      <td>9</td>\n",
       "      <td>-5</td>\n",
       "      <td>5</td>\n",
       "      <td>-6</td>\n",
       "      <td>8</td>\n",
       "      <td>-4</td>\n",
       "      <td>3</td>\n",
       "      <td>0</td>\n",
       "      <td>0</td>\n",
       "    </tr>\n",
       "    <tr>\n",
       "      <th>1</th>\n",
       "      <td>[[-1, -1, 0], [-1, -1, -1], [1, 0, -1]]</td>\n",
       "      <td>-1</td>\n",
       "      <td>-5</td>\n",
       "      <td>7</td>\n",
       "      <td>-8</td>\n",
       "      <td>0</td>\n",
       "      <td>0</td>\n",
       "      <td>0</td>\n",
       "      <td>0</td>\n",
       "      <td>0</td>\n",
       "      <td>0</td>\n",
       "    </tr>\n",
       "    <tr>\n",
       "      <th>2</th>\n",
       "      <td>[[-1, 1, 1], [0, 0, 0], [-1, 0, 1]]</td>\n",
       "      <td>0</td>\n",
       "      <td>-8</td>\n",
       "      <td>5</td>\n",
       "      <td>-5</td>\n",
       "      <td>4</td>\n",
       "      <td>-7</td>\n",
       "      <td>9</td>\n",
       "      <td>-6</td>\n",
       "      <td>0</td>\n",
       "      <td>0</td>\n",
       "    </tr>\n",
       "    <tr>\n",
       "      <th>3</th>\n",
       "      <td>[[0, -1, -1], [-1, 1, -1], [-1, 0, 1]]</td>\n",
       "      <td>-1</td>\n",
       "      <td>-3</td>\n",
       "      <td>9</td>\n",
       "      <td>-8</td>\n",
       "      <td>6</td>\n",
       "      <td>0</td>\n",
       "      <td>0</td>\n",
       "      <td>0</td>\n",
       "      <td>0</td>\n",
       "      <td>0</td>\n",
       "    </tr>\n",
       "    <tr>\n",
       "      <th>4</th>\n",
       "      <td>[[-1, 1, 0], [0, 1, -1], [0, 1, -1]]</td>\n",
       "      <td>1</td>\n",
       "      <td>-5</td>\n",
       "      <td>8</td>\n",
       "      <td>-5</td>\n",
       "      <td>4</td>\n",
       "      <td>-7</td>\n",
       "      <td>6</td>\n",
       "      <td>0</td>\n",
       "      <td>0</td>\n",
       "      <td>0</td>\n",
       "    </tr>\n",
       "  </tbody>\n",
       "</table>\n",
       "</div>"
      ],
      "text/plain": [
       "                                     board  winner  1  2  3  4  5  6  7  8  9\n",
       "0      [[1, 0, 1], [0, 0, -1], [-1, 1, 1]]      -1  9 -5  5 -6  8 -4  3  0  0\n",
       "1  [[-1, -1, 0], [-1, -1, -1], [1, 0, -1]]      -1 -5  7 -8  0  0  0  0  0  0\n",
       "2      [[-1, 1, 1], [0, 0, 0], [-1, 0, 1]]       0 -8  5 -5  4 -7  9 -6  0  0\n",
       "3   [[0, -1, -1], [-1, 1, -1], [-1, 0, 1]]      -1 -3  9 -8  6  0  0  0  0  0\n",
       "4     [[-1, 1, 0], [0, 1, -1], [0, 1, -1]]       1 -5  8 -5  4 -7  6  0  0  0"
      ]
     },
     "execution_count": 37,
     "metadata": {},
     "output_type": "execute_result"
    }
   ],
   "source": [
    "# example of generating random samples using some of the parameters to adjust settings\n",
    "# this data set will contain 1000 samples\n",
    "data = random_samples(n_samples=1000, rand_seed=5, save_file=False, rand_first_player=True, shuffled=True)\n",
    "\n",
    "# this returns a pandas DataFrame\n",
    "data.head()"
   ]
  },
  {
   "cell_type": "markdown",
   "metadata": {},
   "source": [
    "We have a lot of information compressed into a small table.\n",
    "\n",
    "The first two columns are rarely used, but are kept for data validation. They are:\n",
    "- \"board\": the game board in the form of a matrix. 'X' = 1, 'O' = 0, and an open space is represented with -1\n",
    "- \"winner\": indicates if the match was completed, and if so, who won\n",
    "\n",
    "The numbered columns are an encoded representation of a full match of TTT that I set up. These numbers represent all moves made during a match and their order. This can then be vectorized to be easily fed into a learning algorithm. Let's look at how to do that."
   ]
  },
  {
   "cell_type": "code",
   "execution_count": 38,
   "metadata": {},
   "outputs": [
    {
     "data": {
      "text/html": [
       "<div>\n",
       "<style scoped>\n",
       "    .dataframe tbody tr th:only-of-type {\n",
       "        vertical-align: middle;\n",
       "    }\n",
       "\n",
       "    .dataframe tbody tr th {\n",
       "        vertical-align: top;\n",
       "    }\n",
       "\n",
       "    .dataframe thead th {\n",
       "        text-align: right;\n",
       "    }\n",
       "</style>\n",
       "<table border=\"1\" class=\"dataframe\">\n",
       "  <thead>\n",
       "    <tr style=\"text-align: right;\">\n",
       "      <th></th>\n",
       "      <th>1</th>\n",
       "      <th>2</th>\n",
       "      <th>3</th>\n",
       "      <th>4</th>\n",
       "      <th>5</th>\n",
       "      <th>6</th>\n",
       "      <th>7</th>\n",
       "      <th>8</th>\n",
       "      <th>9</th>\n",
       "    </tr>\n",
       "  </thead>\n",
       "  <tbody>\n",
       "    <tr>\n",
       "      <th>0</th>\n",
       "      <td>9</td>\n",
       "      <td>-5</td>\n",
       "      <td>5</td>\n",
       "      <td>-6</td>\n",
       "      <td>8</td>\n",
       "      <td>-4</td>\n",
       "      <td>3</td>\n",
       "      <td>0</td>\n",
       "      <td>0</td>\n",
       "    </tr>\n",
       "    <tr>\n",
       "      <th>1</th>\n",
       "      <td>-5</td>\n",
       "      <td>7</td>\n",
       "      <td>-8</td>\n",
       "      <td>0</td>\n",
       "      <td>0</td>\n",
       "      <td>0</td>\n",
       "      <td>0</td>\n",
       "      <td>0</td>\n",
       "      <td>0</td>\n",
       "    </tr>\n",
       "    <tr>\n",
       "      <th>2</th>\n",
       "      <td>-8</td>\n",
       "      <td>5</td>\n",
       "      <td>-5</td>\n",
       "      <td>4</td>\n",
       "      <td>-7</td>\n",
       "      <td>9</td>\n",
       "      <td>-6</td>\n",
       "      <td>0</td>\n",
       "      <td>0</td>\n",
       "    </tr>\n",
       "    <tr>\n",
       "      <th>3</th>\n",
       "      <td>-3</td>\n",
       "      <td>9</td>\n",
       "      <td>-8</td>\n",
       "      <td>6</td>\n",
       "      <td>0</td>\n",
       "      <td>0</td>\n",
       "      <td>0</td>\n",
       "      <td>0</td>\n",
       "      <td>0</td>\n",
       "    </tr>\n",
       "    <tr>\n",
       "      <th>4</th>\n",
       "      <td>-5</td>\n",
       "      <td>8</td>\n",
       "      <td>-5</td>\n",
       "      <td>4</td>\n",
       "      <td>-7</td>\n",
       "      <td>6</td>\n",
       "      <td>0</td>\n",
       "      <td>0</td>\n",
       "      <td>0</td>\n",
       "    </tr>\n",
       "  </tbody>\n",
       "</table>\n",
       "</div>"
      ],
      "text/plain": [
       "   1  2  3  4  5  6  7  8  9\n",
       "0  9 -5  5 -6  8 -4  3  0  0\n",
       "1 -5  7 -8  0  0  0  0  0  0\n",
       "2 -8  5 -5  4 -7  9 -6  0  0\n",
       "3 -3  9 -8  6  0  0  0  0  0\n",
       "4 -5  8 -5  4 -7  6  0  0  0"
      ]
     },
     "execution_count": 38,
     "metadata": {},
     "output_type": "execute_result"
    }
   ],
   "source": [
    "# data is in the form of a pandas DataFrame. We can extract any columns we want to use for training data.\n",
    "# we use the column keys (1, 2, 3, etc...) to extract them from the 'data' variable\n",
    "train_X = data[[x for x in range(1, 10)]]\n",
    "\n",
    "# looking at the extracted data\n",
    "train_X.head()"
   ]
  },
  {
   "cell_type": "code",
   "execution_count": 39,
   "metadata": {},
   "outputs": [
    {
     "data": {
      "text/plain": [
       "array([[ 9, -5,  5, -6,  8, -4,  3,  0,  0],\n",
       "       [-5,  7, -8,  0,  0,  0,  0,  0,  0],\n",
       "       [-8,  5, -5,  4, -7,  9, -6,  0,  0],\n",
       "       [-3,  9, -8,  6,  0,  0,  0,  0,  0],\n",
       "       [-5,  8, -5,  4, -7,  6,  0,  0,  0]], dtype=int64)"
      ]
     },
     "execution_count": 39,
     "metadata": {},
     "output_type": "execute_result"
    }
   ],
   "source": [
    "# vectorizing the data can be done with the 'values' attribute. This returns a numpy nd.array\n",
    "# we assign this to a new matrix, X\n",
    "X = train_X.values\n",
    "\n",
    "# looking at the resulting matrix\n",
    "X[:5]"
   ]
  },
  {
   "cell_type": "markdown",
   "metadata": {},
   "source": [
    "The training data has now be vectorized. This allows for fitting and predicting to be computationally more efficient, and sets up an easy structure for getting predictions back from a model during implementation."
   ]
  },
  {
   "cell_type": "markdown",
   "metadata": {},
   "source": [
    "## K-Means Clustering: Finding a K value"
   ]
  },
  {
   "cell_type": "markdown",
   "metadata": {},
   "source": [
    "When clustering, it's difficult to know how many clusters, if any, to expect the data to fall into. In order to effectively identify the proper amount, iterative testing and comparison of Summed Squared Error (SSE) is necessary. We will use SciKit-Learn to build the models and a graphing library called Matplotlib to observe the results."
   ]
  },
  {
   "cell_type": "code",
   "execution_count": 40,
   "metadata": {},
   "outputs": [
    {
     "data": {
      "image/png": "[encoded data removed]",
      "text/plain": [
       "<Figure size 1200x720 with 1 Axes>"
      ]
     },
     "metadata": {
      "needs_background": "light"
     },
     "output_type": "display_data"
    }
   ],
   "source": [
    "# initializing the plot and adjusting settings\n",
    "plt.figure(figsize=(10, 6), dpi=120)\n",
    "\n",
    "sse = dict()\n",
    "for k in range(1, 10):\n",
    "    kmeans = KMeans(n_clusters=k, max_iter=2500).fit(X)\n",
    "    sse[k] = kmeans.inertia_ # sum of squared euclidian distance from each point to its closest centroid\n",
    "plt.plot(list(sse.keys()), list(sse.values()), label=f\"Sample matrix X\")\n",
    "\n",
    "plt.title(\"Cluster Evaluation\")\n",
    "plt.xlabel(\"Number of Clusters\")\n",
    "plt.ylabel(\"SSE\")\n",
    "plt.legend(loc=\"upper right\")\n",
    "plt.show()"
   ]
  },
  {
   "cell_type": "markdown",
   "metadata": {},
   "source": [
    "There is an 'elbow' at k=2 clusters where the Sum of Squared Error (SSE) has a sharp change in direction. This indicates that the SSE is beinning to converge at k=2, which implies that our data is most likely split into 2 clusters.\n",
    "\n",
    "It is worth noting the SSE scales linearly with the size of the training set, so the raw value of SSE is arbitrary. Instead, we can look at the variance."
   ]
  },
  {
   "cell_type": "markdown",
   "metadata": {},
   "source": [
    "We'll compare the variance of our models for different sized data sets to determine the optimal amount of training samples."
   ]
  },
  {
   "cell_type": "code",
   "execution_count": 41,
   "metadata": {},
   "outputs": [
    {
     "data": {
      "image/png": "[encoded data removed]",
      "text/plain": [
       "<Figure size 1200x720 with 1 Axes>"
      ]
     },
     "metadata": {
      "needs_background": "light"
     },
     "output_type": "display_data"
    },
    {
     "name": "stdout",
     "output_type": "stream",
     "text": [
      "Variance in each model at k=2 clusters: [58.99267235527663, 58.30192443183955, 58.66012072434491, 58.87157608350281, 58.897899175995114]\n"
     ]
    }
   ],
   "source": [
    "# creating our data sets\n",
    "data_a = random_samples(n_samples=1000)\n",
    "data_b = random_samples(n_samples=5000)\n",
    "data_c = random_samples(n_samples=10000)\n",
    "data_d = random_samples(n_samples=25000)\n",
    "data_e = random_samples(n_samples=50000)\n",
    "\n",
    "A = data_a[[x for x in range(1, 10)]].values\n",
    "B = data_b[[x for x in range(1, 10)]].values\n",
    "C = data_c[[x for x in range(1, 10)]].values\n",
    "D = data_d[[x for x in range(1, 10)]].values\n",
    "E = data_e[[x for x in range(1, 10)]].values\n",
    "\n",
    "abcde = [A, B, C, D, E]\n",
    "\n",
    "# initializing our plot\n",
    "plt.figure(figsize=(10, 6), dpi=120)\n",
    "\n",
    "agg_var = list()\n",
    "# iteratively building models witht the different data sets\n",
    "for idx, vec in enumerate(abcde):\n",
    "    variance = dict()\n",
    "    for k in range(1, 10):\n",
    "        kmeans = KMeans(n_clusters=k, max_iter=2500).fit(vec)\n",
    "        variance[k] = kmeans.inertia_ / len(vec) # variance of the model\n",
    "    plt.plot(list(variance.keys()), list(variance.values()), label=f\"Sample {idx + 1}\")\n",
    "    agg_var.append(variance)\n",
    "\n",
    "plt.title(\"Comparison of Variance\")\n",
    "plt.xlabel(\"Number of Clusters\")\n",
    "plt.ylabel(\"Variance\")\n",
    "plt.legend(loc=\"upper right\")\n",
    "plt.show()\n",
    "print(\"Variance in each model at k=2 clusters:\", [x[2] for x in agg_var])"
   ]
  },
  {
   "cell_type": "markdown",
   "metadata": {},
   "source": [
    "It is clear that variance of the model remains roughly the same, regardless of the size of the data set. This indicates that even with only 1000 training examples, our model identifies 2 effective centroids for classification. We will use n=1000 to train a model."
   ]
  },
  {
   "cell_type": "markdown",
   "metadata": {},
   "source": [
    "## K-Means Clustering: Training and Saving a model"
   ]
  },
  {
   "cell_type": "markdown",
   "metadata": {},
   "source": [
    "Since we now have evidence indicating that k=2 and we know n=1000 is sufficient for training, we can construct a model to classify boards of Tic Tac Toe!\n",
    "\n",
    "We will use SciKit-Learn to construct a simple model with the default parameters. Rather than loading in an already generated dataset, we will generate a new one."
   ]
  },
  {
   "cell_type": "code",
   "execution_count": 42,
   "metadata": {},
   "outputs": [
    {
     "data": {
      "text/plain": [
       "(58992.672355276634, 58.99267235527663)"
      ]
     },
     "execution_count": 42,
     "metadata": {},
     "output_type": "execute_result"
    }
   ],
   "source": [
    "# data set with 1000 samples\n",
    "data_z = random_samples(n_samples=1000)\n",
    "Z = data_z[[x for x in range(1, 10)]].values\n",
    "\n",
    "# instantiating the KMeans model\n",
    "model = KMeans(n_clusters=2)\n",
    "\n",
    "# fitting the model to our Z data matrix\n",
    "model.fit(Z)\n",
    "\n",
    "# looking at our SSE and variance\n",
    "model.inertia_, model.inertia_ / len(Z)"
   ]
  },
  {
   "cell_type": "markdown",
   "metadata": {},
   "source": [
    "We now have a trained model that can be used for classification. We still do not know what the classes are, however. This will need to be determined through further testing.\n",
    "\n",
    "For now, we will just demonstrate how to use this model for classification."
   ]
  },
  {
   "cell_type": "code",
   "execution_count": 43,
   "metadata": {},
   "outputs": [
    {
     "data": {
      "text/plain": [
       "array([1, 0, 0, 0, 0, 0, 1, 1, 1, 1, 0, 0, 1, 1, 1, 1, 1, 0, 1, 0, 0, 1,\n",
       "       0, 0, 0, 0, 1, 0, 1, 0, 1, 0, 1, 0, 1, 0, 1, 0, 0, 1, 0, 0, 1, 0,\n",
       "       1, 0, 1, 0, 1, 1, 1, 0, 0, 1, 1, 0, 1, 0, 1, 1, 0, 0, 0, 0, 1, 1,\n",
       "       0, 1, 1, 1, 1, 0, 1, 0, 1, 1, 1, 0, 0, 1, 0, 1, 1, 0, 0, 1, 0, 1,\n",
       "       0, 0, 1, 1, 1, 0, 1, 1, 1, 0, 0, 1])"
      ]
     },
     "execution_count": 43,
     "metadata": {},
     "output_type": "execute_result"
    }
   ],
   "source": [
    "# looking at the classifications of the first 100 elements of our smaller data matrix, X\n",
    "model.predict(X)[:100]"
   ]
  },
  {
   "cell_type": "markdown",
   "metadata": {},
   "source": [
    "The predictions from the model assign each sample to either class '1' or class '0'. \n",
    "\n",
    "It is assumed for now that each class indicates that a match is in-favor of player 'X' or player 'O'. Later, we will be using these classifications to operate a decision tree."
   ]
  },
  {
   "cell_type": "markdown",
   "metadata": {},
   "source": [
    "Now that the model is trained and ready for live testing, we will save it into a binary file. This binary file will be loadable into any program to make predictions."
   ]
  },
  {
   "cell_type": "code",
   "execution_count": 44,
   "metadata": {},
   "outputs": [],
   "source": [
    "# using pickle library to write a new .sav file in binary in our specific directory\n",
    "pickle.dump(model, open(\"model_binaries/example_kmeans.sav\", \"wb\"))"
   ]
  },
  {
   "cell_type": "markdown",
   "metadata": {},
   "source": [
    "This binary file can then be loaded in a similar way and then used for predictions."
   ]
  },
  {
   "cell_type": "code",
   "execution_count": 45,
   "metadata": {},
   "outputs": [
    {
     "data": {
      "text/plain": [
       "array([1, 0, 0, 0, 0, 0, 1, 1, 1, 1, 0, 0, 1, 1, 1, 1, 1, 0, 1, 0, 0, 1,\n",
       "       0, 0, 0, 0, 1, 0, 1, 0, 1, 0, 1, 0, 1, 0, 1, 0, 0, 1, 0, 0, 1, 0,\n",
       "       1, 0, 1, 0, 1, 1, 1, 0, 0, 1, 1, 0, 1, 0, 1, 1, 0, 0, 0, 0, 1, 1,\n",
       "       0, 1, 1, 1, 1, 0, 1, 0, 1, 1, 1, 0, 0, 1, 0, 1, 1, 0, 0, 1, 0, 1,\n",
       "       0, 0, 1, 1, 1, 0, 1, 1, 1, 0, 0, 1])"
      ]
     },
     "execution_count": 45,
     "metadata": {},
     "output_type": "execute_result"
    }
   ],
   "source": [
    "model = pickle.load(open(\"model_binaries/example_kmeans.sav\", \"rb\"))\n",
    "model.predict(X)[:100]"
   ]
  },
  {
   "cell_type": "markdown",
   "metadata": {},
   "source": [
    "## Decision Tree"
   ]
  },
  {
   "cell_type": "markdown",
   "metadata": {},
   "source": [
    "Rather than using an algorirthm like minimax to generate and evaluate a decision tree of sorts, we can instead use the data from our K-Means clustering model to more quickly extrapolate the next best move given a game of Tic Tac Toe.\n",
    "\n",
    "Using the coordinates of the centroids from the model, we can choose the move which has the smallest euclidian distance from our desired class' centroid."
   ]
  },
  {
   "cell_type": "code",
   "execution_count": 46,
   "metadata": {},
   "outputs": [
    {
     "data": {
      "text/plain": [
       "(array([-5.92773438,  5.28515625, -4.24023438,  3.63867188, -2.9765625 ,\n",
       "         1.80273438, -0.99023438,  0.30859375,  0.        ]),\n",
       " array([ 6.06967213, -5.16188525,  4.47131148, -3.64959016,  2.98360656,\n",
       "        -2.06557377,  1.21106557, -0.51844262,  0.        ]))"
      ]
     },
     "execution_count": 46,
     "metadata": {},
     "output_type": "execute_result"
    }
   ],
   "source": [
    "# each (unknown) class has a center at the following coordinates\n",
    "c0 = model.cluster_centers_[0]\n",
    "c1 = model.cluster_centers_[1]\n",
    "\n",
    "c0, c1"
   ]
  },
  {
   "cell_type": "markdown",
   "metadata": {},
   "source": [
    "Let's assume we want to optimize our decisions in favor of cluster 0.\n",
    "\n",
    "We'll use the coordinates for c0 to measure distance. A function that measures the distance will look like this."
   ]
  },
  {
   "cell_type": "code",
   "execution_count": 47,
   "metadata": {},
   "outputs": [],
   "source": [
    "# a function that calculates the euclidian distance between two 9-dimensional points\n",
    "\n",
    "def distance(point: np.ndarray, centroid: np.ndarray) -> float:\n",
    "    dist = np.subtract(centroid, point)\n",
    "    dist = dist**2\n",
    "    dist = np.sqrt(np.sum(dist))\n",
    "    \n",
    "    return dist"
   ]
  },
  {
   "cell_type": "markdown",
   "metadata": {},
   "source": [
    "Given a board, we will have some number of open spaces, t. For each t, we can make a move to a different spot on the board.\n",
    "\n",
    "We will generate t unique boards and then convert them into our vector format."
   ]
  },
  {
   "cell_type": "code",
   "execution_count": 48,
   "metadata": {},
   "outputs": [
    {
     "name": "stdout",
     "output_type": "stream",
     "text": [
      " O |   |   \n",
      "-----------\n",
      "   | X | O \n",
      "-----------\n",
      "   |   |   \n"
     ]
    }
   ],
   "source": [
    "# let this be the board we are evaluating\n",
    "board = [-1, 5, -6, 0, 0, 0, 0, 0, 0, 0]\n",
    "\n",
    "# this is equivalent to the following matrix\n",
    "board_matrix = [\n",
    "    [0, -1, -1],\n",
    "    [-1, 1, 0],\n",
    "    [-1, -1, -1]\n",
    "]\n",
    "\n",
    "print(gt.string_board(board_matrix))"
   ]
  },
  {
   "cell_type": "markdown",
   "metadata": {},
   "source": [
    "There are 6 choices for the next move by player 'X'."
   ]
  },
  {
   "cell_type": "code",
   "execution_count": 49,
   "metadata": {},
   "outputs": [
    {
     "data": {
      "text/plain": [
       "array([[-1,  5, -6,  2,  0,  0,  0,  0,  0],\n",
       "       [-1,  5, -6,  3,  0,  0,  0,  0,  0],\n",
       "       [-1,  5, -6,  4,  0,  0,  0,  0,  0],\n",
       "       [-1,  5, -6,  7,  0,  0,  0,  0,  0],\n",
       "       [-1,  5, -6,  8,  0,  0,  0,  0,  0],\n",
       "       [-1,  5, -6,  9,  0,  0,  0,  0,  0]])"
      ]
     },
     "execution_count": 49,
     "metadata": {},
     "output_type": "execute_result"
    }
   ],
   "source": [
    "# our possible next moves in vectorized form\n",
    "m0 = [-1, 5, -6, 2, 0, 0, 0, 0, 0]\n",
    "m1 = [-1, 5, -6, 3, 0, 0, 0, 0, 0]\n",
    "m2 = [-1, 5, -6, 4, 0, 0, 0, 0, 0]\n",
    "m3 = [-1, 5, -6, 7, 0, 0, 0, 0, 0]\n",
    "m4 = [-1, 5, -6, 8, 0, 0, 0, 0, 0]\n",
    "m5 = [-1, 5, -6, 9, 0, 0, 0, 0, 0]\n",
    "\n",
    "# converting into a numpy matrix\n",
    "moves = np.array([m0, m1, m2, m3, m4, m5])\n",
    "\n",
    "# visually verifying\n",
    "moves"
   ]
  },
  {
   "cell_type": "markdown",
   "metadata": {},
   "source": [
    "We can now iteratively compare these moves by their euclidian distance to our desired point, choosing the move with the lowest value."
   ]
  },
  {
   "cell_type": "code",
   "execution_count": 50,
   "metadata": {},
   "outputs": [
    {
     "data": {
      "text/plain": [
       "(array([-1,  5, -6,  4,  0,  0,  0,  0,  0]), 6.3856701284596635)"
      ]
     },
     "execution_count": 50,
     "metadata": {},
     "output_type": "execute_result"
    }
   ],
   "source": [
    "# helper variables\n",
    "min_dist = 0\n",
    "opt_move = 0\n",
    "\n",
    "for idx, p in enumerate(moves):\n",
    "    dist = distance(p, c0)\n",
    "    \n",
    "    if min_dist == 0 or dist < min_dist:\n",
    "        min_dist = dist\n",
    "        opt_move = idx\n",
    "        \n",
    "moves[opt_move], min_dist"
   ]
  },
  {
   "cell_type": "markdown",
   "metadata": {},
   "source": [
    "We've identified the next best move!"
   ]
  }
 ],
 "metadata": {
  "kernelspec": {
   "display_name": "Python 3.10.2 64-bit",
   "language": "python",
   "name": "python3"
  },
  "language_info": {
   "codemirror_mode": {
    "name": "ipython",
    "version": 3
   },
   "file_extension": ".py",
   "mimetype": "text/x-python",
   "name": "python",
   "nbconvert_exporter": "python",
   "pygments_lexer": "ipython3",
   "version": "3.10.2"
  },
  "orig_nbformat": 4,
  "vscode": {
   "interpreter": {
    "hash": "b8f6c3ebd6a88d6aa92e8e216424c33c840aaeca7e1202db6e523f3cae8f4bb3"
   }
  }
 },
 "nbformat": 4,
 "nbformat_minor": 2
}
